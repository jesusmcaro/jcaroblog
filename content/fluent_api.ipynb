{
 "cells": [
  {
   "cell_type": "code",
   "execution_count": null,
   "metadata": {},
   "outputs": [],
   "source": [
    "- title: testing testing\n",
    "- author: Jesus Caro\n",
    "- date: 2023-11-19\n",
    "- category: python\n",
    "- tags: docker, vscode, github, codespaces, development containers, poetry, venv\n",
    "- Subcells: [2,None]"
   ]
  },
  {
   "attachments": {},
   "cell_type": "markdown",
   "metadata": {},
   "source": [
    "Testing does it show this cell?"
   ]
  },
  {
   "attachments": {},
   "cell_type": "markdown",
   "metadata": {},
   "source": [
    "How about this cell?"
   ]
  },
  {
   "attachments": {},
   "cell_type": "markdown",
   "metadata": {},
   "source": [
    "And this cell?"
   ]
  }
 ],
 "metadata": {
  "kernelspec": {
   "display_name": "jcaroblog-dev-venv",
   "language": "python",
   "name": "python3"
  },
  "language_info": {
   "name": "python",
   "version": "3.11.5 | packaged by conda-forge | (main, Aug 27 2023, 03:23:33) [GCC 12.3.0]"
  },
  "orig_nbformat": 4,
  "vscode": {
   "interpreter": {
    "hash": "82bc136e204374cb046b87136984ff6f558c1d10b019b05c805f29e62ccfcaee"
   }
  }
 },
 "nbformat": 4,
 "nbformat_minor": 2
}
