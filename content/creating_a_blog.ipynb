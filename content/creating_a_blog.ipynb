{
 "cells": [
  {
   "cell_type": "code",
   "execution_count": 1,
   "metadata": {},
   "outputs": [
    {
     "ename": "SyntaxError",
     "evalue": "leading zeros in decimal integer literals are not permitted; use an 0o prefix for octal integers (491324739.py, line 3)",
     "output_type": "error",
     "traceback": [
      "\u001b[0;36m  Cell \u001b[0;32mIn[1], line 3\u001b[0;36m\u001b[0m\n\u001b[0;31m    - date: 2023-05-11\u001b[0m\n\u001b[0m                 ^\u001b[0m\n\u001b[0;31mSyntaxError\u001b[0m\u001b[0;31m:\u001b[0m leading zeros in decimal integer literals are not permitted; use an 0o prefix for octal integers\n"
     ]
    }
   ],
   "source": [
    "- title: Creating a markdown blog using ipynb and Pelican!\n",
    "- author: Jesus Caro\n",
    "- date: 2023-05-11\n",
    "- category: python\n",
    "- tags: pelican, pip, python, blog, markdown, github-pages, github"
   ]
  },
  {
   "attachments": {},
   "cell_type": "markdown",
   "metadata": {},
   "source": [
    "### Welcome to my new blog!"
   ]
  },
  {
   "attachments": {},
   "cell_type": "markdown",
   "metadata": {},
   "source": [
    "For those of you that don't know me or stumbled upon my new blog, let me introduce myself. I'm Jesus (Jesse) Caro, and I have been working in the data space for about 7 years as of 2023. When I started out of grad school, my primary language was R. I had a great blog written in R (powered by [blogdown](https://github.com/rstudio/blogdown)) that you can find [here](https://607f9ef90597535dcfdc202c--jolly-wright-eba598.netlify.app/portfolio/). \n",
    "\n",
    "However, after a couple of years, I moved to a new role and picked up Python. I have been primarily programming in Python, and that blog was left neglected for a few years. It was primarily a mixture of laziness, and the lack of a solution equivalent to R-blogdown in Python. This is where [Pelican](https://getpelican.com) and [pelican-jupyter](https://github.com/danielfrg/pelican-jupyter) come to the rescue.\n"
   ]
  },
  {
   "attachments": {},
   "cell_type": "markdown",
   "metadata": {},
   "source": [
    "### What is Pelican?\n",
    "\n",
    "Pelican is a static site generator that allows users to leverage Python to create simple static sites. It has a variety of different features, and you can find more about them [here](https://getpelican.com). The requirements for my blog were only these:\n",
    "\n",
    "- It should have a rich template base with decent-looking templates.\n",
    "- Allow me to generate a static website using ipynb files.\n",
    "- It should be fairly approachable over a span of a few months, and I shouldn't have to finagle and remember how to reuse it.\n",
    "\n",
    "I would say Pelican knocks it out of the park on the latter two requirements, but the first one is definitely very lackluster. I found some decent templates, but you're going to have to do some digging if you want your blog to not look like it came straight out of the 00's.\n"
   ]
  },
  {
   "attachments": {},
   "cell_type": "markdown",
   "metadata": {},
   "source": [
    "### How can you get started?\n",
    "Getting started on Pelican is pretty easy. To generate this website I just had to do four things:\n",
    "\n",
    "- Set up Pelican\n",
    "- Grab a Template\n",
    "- Install and set up pelican-jupyter\n",
    "- Upload the output to a Static Host\n",
    "    - (optional) If you want a domain name, set one up through GoDaddy \n",
    "\n"
   ]
  },
  {
   "attachments": {},
   "cell_type": "markdown",
   "metadata": {},
   "source": [
    "### Set up Pelican \n",
    "Setting up Pelican is a breeze! Before diving in, I suggest creating a virtual environment for your blog and printing out the requirements.txt file using pip freeze with explicit package versions (in case you migrate machines). \n",
    "\n",
    "Navigate to a directory where you'll store your website data. For me, it's `/Users/jcaro-work/VSCODE`.\n",
    "\n",
    "Create a virtual environment above that directory: `/Users/jcaro-work/blog-venv` by running `python -m venv blog-env`.\n",
    "\n",
    "Activate the environment.\n",
    "\n",
    "Run `python -m pip install \"pelican[markdown]\"`\n",
    "\n",
    "Now, let's run and follow the prompts:\n",
    "```\n",
    "mkdir -p ~/projects/yoursite\n",
    "cd ~/projects/yoursite\n",
    "pelican-quickstart\n",
    "```\n",
    "\n",
    "Voila! You should now have a directory filled with config files, a content folder, and an output folder.\n",
    "\n",
    "#### Grab a Template\n",
    "A treasure trove of Pelican themes awaits in the [repository-of-repositories](https://github.com/getpelican/pelican-themes). Currently, I'm using the \"Hyde\" theme (though it might change in the future). It's a modern and easy-to-use template that you might enjoy. Choose the one that best fits your style! \n",
    "\n",
    "Theming is a breeze! In your `pelicanconf.py` file (created by `pelican-quickstart`), point to your theme by changing the parameter:\n",
    "```\n",
    "THEME = \"/home/user/pelican-themes/theme-name\"\n",
    "\n",
    "```\n",
    "\n",
    "#### Setting up Pelican-Jupyter \n",
    "Setting up pelican-jupyter is also a piece of cake! Just use `pip install pelican-jupyter`. Ensure your environment meets the following requirements:\n",
    "\n",
    "```\n",
    "pelican>=4\n",
    "notebook>=6\n",
    "nbconvert>=5\n",
    "```\n",
    "\n",
    "Now, let's configure the way you want to use `.ipynb` files. Check out the [repo-readme] (https://github.com/danielfrg/pelican-jupyter) for various options. I've chosen Option 2 (metadata cell in notebook).\n",
    "\n",
    "This requires you to add this code-chunk to `pelicanconf.py`:\n",
    "\n",
    "```\n",
    "MARKUP = (\"md\", \"ipynb\")\n",
    "\n",
    "from pelican_jupyter import markup as nb_markup\n",
    "PLUGINS = [nb_markup]\n",
    "IPYNB_MARKUP_USE_FIRST_CELL = True\n",
    "\n",
    "IGNORE_FILES = [\".ipynb_checkpoints\"]\n",
    "```\n",
    "\n",
    "Now, all that's left is to create a `.ipynb` file in `blog/content`, and you're good to go! \n",
    "\n",
    "To do that, create an `.ipynb` file with the following metadata:\n",
    "\n",
    "```\n",
    "- title: Wow, Pelican is Cool!\n",
    "- author: Bon Jon Bovine\n",
    "- date: 2096-04-21\n",
    "- category: snek\n",
    "- tags: cool-stuff, awesome, tech, isn't-this-great?\n",
    "```\n",
    "\n",
    "Hit save, and run `pelican -rl`. You'll see an output like this:\n",
    "\n",
    "\n",
    "```\n",
    "--- AutoReload Mode: Monitoring `content`, `theme` and `settings` for changes. ---\n",
    "Serving site at: http://127.0.0.1:8000 - Tap CTRL-C to stop\n",
    "```\n",
    "\n",
    "Now you should be able to see your website!\n",
    "\n",
    "#### Upload the output to a Static Host\n",
    "\n",
    "Apart from serving your website at `http://127.0.0.1:8000`, Pelican generates a static website at `blog/output`. You'll find tons of files there. You can upload this folder to services like Netlify or GitHub Pages.\n",
    "\n",
    "The simplest way I've found is to use GitHub Pages. Define a directory in a parent folder (above the blog), copy the output there, and simply commit and push to the directory linked to GitHub Pages. This way, GitHub will refresh your static website without accessing any external websites. "
   ]
  },
  {
   "attachments": {},
   "cell_type": "markdown",
   "metadata": {},
   "source": [
    "### Conclusion\n",
    "Pelican proves to be a user friendly and quick static site generator, allowing bloggers to focus on content creation rather than complex setup. By following simple steps, users can set up a virtual environment and install Pelican with ease. Additionally, Pelican-Jupyter integration enhances data-driven stories by leveraging Jupyter notebooks to present insights simply.\n",
    "\n",
    "While theme selection may be a bit frustrating, Pelican's adaptability ensures users can customize their websites to reflect their unique style and preferences. With the website generated, it can be hosted on platforms like Netlify or GitHub Pages, and the latter offers a simple and efficient way to refresh the static website with every commit. "
   ]
  },
  {
   "cell_type": "markdown",
   "metadata": {},
   "source": [
    "###"
   ]
  }
 ],
 "metadata": {
  "kernelspec": {
   "display_name": "blog_env",
   "language": "python",
   "name": "python3"
  },
  "language_info": {
   "codemirror_mode": {
    "name": "ipython",
    "version": 3
   },
   "file_extension": ".py",
   "mimetype": "text/x-python",
   "name": "python",
   "nbconvert_exporter": "python",
   "pygments_lexer": "ipython3",
   "version": "3.11.2"
  },
  "orig_nbformat": 4,
  "vscode": {
   "interpreter": {
    "hash": "1653564cef02798a90b9b616c60b6a52ae0fb8dc47d29a4c81eab51062dbb01d"
   }
  }
 },
 "nbformat": 4,
 "nbformat_minor": 2
}
