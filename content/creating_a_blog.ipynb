{
 "cells": [
  {
   "cell_type": "code",
   "execution_count": null,
   "metadata": {},
   "outputs": [],
   "source": [
    "- title: Creating a markdown blog using ipynb and Pelican!\n",
    "- author: Jesus Caro\n",
    "- date: 2023-05-11\n",
    "- category: python\n",
    "- tags: pelican, pip, python, blog, markdown, github-pages, github"
   ]
  },
  {
   "attachments": {},
   "cell_type": "markdown",
   "metadata": {},
   "source": [
    "## Welcome to my new blog!"
   ]
  },
  {
   "cell_type": "markdown",
   "metadata": {},
   "source": []
  }
 ],
 "metadata": {
  "kernelspec": {
   "display_name": "blog_env",
   "language": "python",
   "name": "python3"
  },
  "language_info": {
   "codemirror_mode": {
    "name": "ipython",
    "version": 3
   },
   "file_extension": ".py",
   "mimetype": "text/x-python",
   "name": "python",
   "nbconvert_exporter": "python",
   "pygments_lexer": "ipython3",
   "version": "3.11.2 (main, Feb 13 2023, 03:51:22) [Clang 14.0.0 (clang-1400.0.29.202)]"
  },
  "orig_nbformat": 4,
  "vscode": {
   "interpreter": {
    "hash": "1653564cef02798a90b9b616c60b6a52ae0fb8dc47d29a4c81eab51062dbb01d"
   }
  }
 },
 "nbformat": 4,
 "nbformat_minor": 2
}
