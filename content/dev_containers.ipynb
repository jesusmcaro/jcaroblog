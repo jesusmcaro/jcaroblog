{
 "cells": [
  {
   "cell_type": "code",
   "execution_count": null,
   "metadata": {},
   "outputs": [],
   "source": [
    "- title: Development Containers in VSCode and Github Codespaces!\n",
    "- author: Jesus Caro\n",
    "- date: 2023-11-19\n",
    "- category: python\n",
    "- tags: docker, vscode, github, codespaces, development containers, poetry, venv"
   ]
  },
  {
   "attachments": {},
   "cell_type": "markdown",
   "metadata": {},
   "source": [
    "# Development Containers\n",
    "\n",
    "# Intro\n",
    "\n",
    "If you're involved in a collaborative project, you're likely familiar with dev containers. They serve as a crucial tool for ensuring consistency in development environments across team members. This means you're guaranteed to be working with the same Python version, have the necessary drivers, and more.\n",
    "\n",
    "In my current role, we leverage dev containers in conjunction with Poetry not only to enforce a standardized development environment but also to establish a uniform Python virtual environment.\n",
    "\n",
    "This article will demonstrate a straightforward method for creating a dev container for a Python project. In this guide, we will be creating a development container for a package called **Fablr**. In this example we will:\n",
    "\n",
    "- Define a dev container using **devcontainer.json**.\n",
    "- Specify a Docker image to complement our dev container.\n",
    "- Set up a post dev-container creation script.\n",
    "- Illustrate how to connect a VS Code instance to our dev container, including defining VS Code extensions within it.\n",
    "- Show how integrating Poetry ensures all developers work with a consistent toolkit.\n",
    "- Highlight how dev containers can enhance development in GitHub CodeSpaces.\n",
    "\n",
    "## Sections\n",
    "\n",
    "**Note**: A prerequisite for this article is having Docker Desktop and VS Code Installed. You can find a link to docker desktop [here](https://www.docker.com/products/docker-desktop/). You can find another for VS Code [here](https://code.visualstudio.com/).\n",
    "\n",
    "### What are Dev Containers?\n",
    "\n",
    "### What is Docker?\n",
    "\n",
    "To understand dev containers, first we should become a little familiar with Docker. Docker has been around since 2013 and allows you to create containerized applications, including containerized virtual machines. You can read more about virtual machines [here](https://azure.microsoft.com/en-us/resources/cloud-computing-dictionary/what-is-a-virtual-machine). Using Docker containers, you can effectively create a uniform virtual machine using an image. This virtual machine can be loaded with any OS of your choosing, with any applications, drivers, and dependencies installed.\n",
    "\n",
    "### Dev Container Project Structure\n",
    "\n",
    "It’s worth noting that the following files have to be created in a `.devcontainer` folder in the root directory of your project like so:\n"
   ]
  },
  {
   "attachments": {},
   "cell_type": "markdown",
   "metadata": {},
   "source": [
    "```\n",
    "/Fablr\n",
    "    /.devcontainer\n",
    "        devcontainer.json\n",
    "\t\t    Dockerfile\n",
    "\t\t\t\tpostcreate.sh\n",
    "    /Fablr\n",
    "        __init__.py\n",
    "    /tests\n",
    "        test_fablr.py\n",
    "\t\treadme.md\n",
    "\t\tpoetry.lock\n",
    "\t\tpyproject.toml\n",
    "```"
   ]
  },
  {
   "attachments": {},
   "cell_type": "markdown",
   "metadata": {},
   "source": [
    "### Defining a `devcontainer.json` file\n",
    "\n",
    "The `devcontainer.json` file ties together everything you need and is, in short, a configuration file for your dev container. In the following sections, we’ll be defining a `Dockerfile`, as well as a `postcreation.sh` file. This file ties everything together to ensure that these files and their encapsulated instruction sets are run successfully.\n",
    "\n",
    "Here is an example of a `devcontainer.json` file defined for our toy package `Fablr`:"
   ]
  },
  {
   "attachments": {},
   "cell_type": "markdown",
   "metadata": {},
   "source": [
    "```\n",
    "{\n",
    "  \"name\": \"Fablr Dev\", \n",
    "  \"dockerFile\": \"Dockerfile\",\n",
    "  \"postCreateCommand\": \"bash .devcontainer/postcreate.sh\",\n",
    "  \"settings\": {\n",
    "    \"python.terminal.activateEnvInCurrentTerminal\": true,\n",
    "    \"python.defaultInterpreterPath\": \"~/workspaces/Fablr/faker-dev-venv/bin/python\"\n",
    "  },\n",
    "  \"extensions\": [\n",
    "    \"ms-python.python\",\n",
    "    \"mikoz.black-py\",\n",
    "    \"charliermarsh.ruff\",\n",
    "    \"njpwerner.autodocstring\"\n",
    "  ]\n",
    "}\n",
    "```\n"
   ]
  },
  {
   "attachments": {},
   "cell_type": "markdown",
   "metadata": {},
   "source": [
    "\n",
    "The key-value pairs defined above are:\n",
    "\n",
    "- **name**: The name of our dev container.\n",
    "- **dockerfile**: The `Dockerfile` defining our container that will be created in Docker.\n",
    "- **postCreateCommand**: The bash script that needs to be run after creating the Docker container.\n",
    "- **settings**: Any miscellaneous settings that need to be defined. Here we will be creating a virtual environment with Poetry, and our setting key-value pairs `python.terminal.activateEnvInCurrentTerminal` and `python.defaultInterpreterPath` indicate whether the virtual environments should be activated, as well as where the interpreter path of our virtual environment is.\n",
    "- **extensions**: This installs any VSCode extensions you want to be available on creation of the development environment.\n",
    "\n",
    "### Defining a Dockerfile for our Development Container\n",
    "\n",
    "In Docker, this is done using a DockerFile, you can read more about docker files [here](https://docs.docker.com/engine/reference/builder/#:~:text=A%20Dockerfile%20is%20a%20text,can%20use%20in%20a%20Dockerfile%20.). A docker file is effectively a set of instructions telling docker how to set up and configure a docker container. Here’s a simplified example of one we’ll be using:\n"
   ]
  },
  {
   "attachments": {},
   "cell_type": "markdown",
   "metadata": {},
   "source": [
    "\n",
    "```\n",
    "# Use an official Python image with the desired version\n",
    "FROM python:3.8\n",
    "\n",
    "# Set the working directory inside the container\n",
    "WORKDIR /workspaces/Fablr\n",
    "```"
   ]
  },
  {
   "attachments": {},
   "cell_type": "markdown",
   "metadata": {},
   "source": [
    "Every DockerFile starts with the line `From ____`. In the above example `FROM python:3.8` tells docker that the base image to build the container on is the one hosted on DockerHub [here](https://hub.docker.com/_/python). It tells docker to pull that image and set it as a base image. The following line `WORKDIR /workspaces/Fablr` sets the working directory to `/workspaces/Fablr` .\n",
    "\n",
    "It’s worth noting you can add commands to run, such as the installation of drivers, copying files etc. These commands would be identical to the terminal commands. All you have to do is prepend the commands with RUN like so:\n",
    "\n"
   ]
  },
  {
   "attachments": {},
   "cell_type": "markdown",
   "metadata": {},
   "source": [
    "```docker\n",
    "# Use an official Python image with the desired version\n",
    "FROM python:3.8\n",
    "\n",
    "# Set the working directory inside the container\n",
    "WORKDIR /workspaces/Fablr\n",
    "\n",
    "# Install Postgres Driver\n",
    "# Update package lists\n",
    "RUN apt-get update\n",
    "\n",
    "# Install curl and other necessary packages\n",
    "RUN apt-get install -y curl apt-transport-https ca-certificates gnupg2\n",
    "\n",
    "# Install PostgreSQL client\n",
    "RUN apt-get install -y libpq-dev\n",
    "```"
   ]
  },
  {
   "attachments": {},
   "cell_type": "markdown",
   "metadata": {},
   "source": [
    "\n",
    "\n",
    "This is one method for making sure you have a postgres driver automatically installed in your dev container. After installing `libpq-dev` , you can pip install `psycopg2` , or add it to your `poetry.lock` file (more on this later) to make sure it’s available in your virtual environment. \n",
    "\n",
    "However I would implement this in the `postcreation.sh` bash script in the following section. \n",
    "\n",
    "### Set up a post container-creation script:\n",
    "\n",
    "As we saw before `devcontainer.json` allows you to define a post container-creation script that runs automatically after creating the container. You can do a lot with this bash script, such as install drivers, copy and download files, etc. \n",
    "\n",
    "In our example `[postcreate.sh](http://postcreate.sh)` script, we will pip install poetry, and using the sample poetry configuration files, we will create a virtual environment, and then activate that environment in our VSCode workspace.  The `postcreate.sh` script is below:"
   ]
  },
  {
   "attachments": {},
   "cell_type": "markdown",
   "metadata": {},
   "source": [
    "```bash\n",
    "#!/bin/bash\n",
    "echo \"##################\"\n",
    "echo \"running postcreate.sh\"\n",
    "echo \"##################\"\n",
    "\n",
    "# Set up a virtual environment from the poetry.lock file\n",
    "pip install poetry==1.7.0\n",
    "python -m venv faker-dev-venv\n",
    "source faker-dev-venv/bin/activate\n",
    "poetry install\n",
    "```"
   ]
  },
  {
   "attachments": {},
   "cell_type": "markdown",
   "metadata": {},
   "source": [
    "\n",
    "First, we print out “running postcreate.sh”, this is useful for real-time debugging as VSCode allows you to monitor the dev-container creation in VSCode’s terminal. The following lines install poetry, this is pinned at `poetry==1.7.0`, after that we create a virtual environment using base python’s `venv` . We activate that environment, and then install all dependencies in our poetry configuration files. \n",
    "\n",
    "This virtual environment will be located in the directory `/workspaces/Fablr/faker-dev-venv/bin/python` . This is where the settings configuration in `devcontainer.json` comes in handy:"
   ]
  },
  {
   "attachments": {},
   "cell_type": "markdown",
   "metadata": {},
   "source": [
    "\n",
    "```bash\n",
    "\"settings\": {\n",
    "    \"python.terminal.activateEnvInCurrentTerminal\": true,\n",
    "    \"python.defaultInterpreterPath\": \"~/workspaces/Fablr/faker-dev-venv/bin/python\"\n",
    "  }\n",
    "```"
   ]
  },
  {
   "attachments": {},
   "cell_type": "markdown",
   "metadata": {},
   "source": [
    "\n",
    "\n",
    "This automatically sets the virtual environment path as the default interpreter and activates it. \n",
    "\n",
    "### The Final Product:\n",
    "\n",
    "After making sure you have your three configuration files the `devcontainer` directory in the root of your repo, you should be able to open up your repo in VSCODE:\n",
    "\n",
    "![Untitled](images/dev_containers/Untitled.png)\n",
    "\n",
    "Now you can hit CMD+Shift+P, to open up your pallet and run `Dev Containers: Rebuild Container without cache.` \n",
    "\n",
    "![Untitled](images/dev_containers/Untitled%201.png)\n",
    "\n",
    "If configured correctly you should see it start to build automatically!\n",
    "\n",
    "![Untitled](images/dev_containers/Untitled%202.png)\n",
    "\n",
    "It’s definitely worth mentioning that I have configured this dev container to leverage ************poetry************ to manage my virtual environment, so if you copy and paste my files they won’t necessarily work, unless you have created a repo already using poetry. You can learn more about that [here](https://python-poetry.org/)\n",
    "\n",
    "My poetry project has a few dependencies such as `Faker`, `usa-address`, and `pendulum` . Let’s see if our virtual environment was created successfully. After the container is created, we can open up a quick python terminal and try and import Faker and create a fake address:"
   ]
  },
  {
   "attachments": {},
   "cell_type": "markdown",
   "metadata": {},
   "source": [
    "\n",
    "```bash\n",
    "(faker-dev-venv) root@0cc23735c8a7:/workspaces/Fablr# python\n",
    "Python 3.8.18 (default, Nov  1 2023, 11:08:38) \n",
    "[GCC 12.2.0] on linux\n",
    "Type \"help\", \"copyright\", \"credits\" or \"license\" for more information.\n",
    ">>> import faker\n",
    ">>> generator = faker.Faker()\n",
    ">>> generator.address()\n",
    "'05065 Mcmillan Court Suite 013\\nPort Jesse, UT 61666'\n",
    "\n",
    "```"
   ]
  },
  {
   "attachments": {},
   "cell_type": "markdown",
   "metadata": {},
   "source": [
    "It seems like our environment was set up succesfully, but if we want to be 100% sure we can always check `pip freeze`:\n"
   ]
  },
  {
   "attachments": {},
   "cell_type": "markdown",
   "metadata": {},
   "source": [
    "```bash\n",
    "Faker==19.13.0\n",
    "future==0.18.3\n",
    "pendulum==2.1.2\n",
    "probableparsing==0.0.1\n",
    "python-crfsuite==0.9.9\n",
    "python-dateutil==2.8.2\n",
    "pytzdata==2020.1\n",
    "six==1.16.0\n",
    "typing_extensions==4.8.0\n",
    "usaddress==0.5.10\n",
    "```"
   ]
  },
  {
   "attachments": {},
   "cell_type": "markdown",
   "metadata": {},
   "source": [
    "\n",
    "### Github Codespaces:\n",
    "\n",
    "One neat thing about defining a dev container in your repository, is that it integrates pretty seamlessly with Github Codespaces. In order to create a development environment using your container you can navigate to your repository. Click on the upper right green **Code** icon. You will see a dialog box allowing you to create a codespace on whatever branch you’re on. *protip* if you’re developing on a feature branch, make sure you create the codespace **on** the feature branch.\n",
    "\n",
    "![Untitled](images/dev_containers/Untitled%203.png)\n",
    "\n",
    "On the lower righthand side you can view the progress of the codespace configuration:\n",
    "\n",
    "![Untitled](images/dev_containers/Untitled%204.png)\n",
    "\n",
    "Once it’s done loading you’ll see the virtual environment activated and you’re off to the races!\n",
    "\n",
    "# Conclusion\n",
    "\n",
    "Dev containers are fantastic for working in collaborative projects, they offer consistency and standardization across development environments, ensuring a unified toolkit among team members. By seamlessly integrating dev containers with Poetry, you are not only able to leverage a standardized development environment but also establish a consistent Python virtual environment.\n",
    "\n",
    "Throughout this comprehensive guide, we outlined the process of creating a dev container for the Python project **Fablr**. From defining the `devcontainer.json` to specifying Docker images, setting up post-dev-container scripts, and integrating with VS Code extensions, each step ensures a streamlined and reproducible setup.\n",
    "\n",
    "Furthermore, the guide emphasizes the flexibility of post-container-creation scripts, showing how a `postcreate.sh` can help automate the configuration of a virtual environment using Poetry and activate it within the VS Code workspace.\n",
    "\n",
    "The final product showcases a seamless integration of dev containers within VS Code, facilitating a straightforward setup process, and underscores the importance of leveraging Poetry for managing virtual environments.\n",
    "\n",
    "You can find a link to the repository here: https://github.com/jesusmcaro/Fablr. Please note that further articles will build upon this repository. So you may see a difference in some of the aforementioned files and what is currently used in the repo. "
   ]
  },
  {
   "cell_type": "markdown",
   "metadata": {},
   "source": []
  }
 ],
 "metadata": {
  "kernelspec": {
   "display_name": "Python 3 (ipykernel)",
   "language": "python",
   "name": "python3"
  },
  "orig_nbformat": 4,
  "vscode": {
   "interpreter": {
    "hash": "b0fa6594d8f4cbf19f97940f81e996739fb7646882a419484c72d19e05852a7e"
   }
  }
 },
 "nbformat": 4,
 "nbformat_minor": 2
}
